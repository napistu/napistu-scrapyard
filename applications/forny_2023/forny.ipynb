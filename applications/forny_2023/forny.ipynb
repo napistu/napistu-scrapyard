{
 "cells": [
  {
   "cell_type": "code",
   "execution_count": 2,
   "metadata": {},
   "outputs": [],
   "source": [
    "import os\n",
    "\n",
    "import pandas as pd"
   ]
  },
  {
   "cell_type": "code",
   "execution_count": 3,
   "metadata": {},
   "outputs": [],
   "source": [
    "SUPPLEMENTAL_DATA_DIR = os.path.expanduser(\"~/Desktop/Forny_2023_data\")\n",
    "\n",
    "SUPPLEMENTAL_DATA_FILES = {\n",
    "    \"transcriptomics_and_proteomics\" : \"42255_2022_720_MOESM3_ESM.xlsx\",\n",
    "    \"phenotypes\" : \"42255_2022_720_MOESM4_ESM.xlsx\",\n",
    "    \"rnaseq_mouse\" : \"42255_2022_720_MOESM5_ESM.xlsx\",\n",
    "    \"metabolomics\" : \"42255_2022_720_MOESM6_ESM.xlsx\"\n",
    "}"
   ]
  },
  {
   "cell_type": "code",
   "execution_count": 16,
   "metadata": {},
   "outputs": [],
   "source": [
    "# load\n",
    "supplemental_data_path = {\n",
    "    x : os.path.join(SUPPLEMENTAL_DATA_DIR, y) for x, y in SUPPLEMENTAL_DATA_FILES.items()\n",
    "}\n",
    "\n",
    "assert all([os.path.isfile(x) for x in supplemental_data_path.values()])\n",
    "\n",
    "supplemental_data = {\n",
    "    x : pd.read_excel(y) for x, y in supplemental_data_path.items()\n",
    "}"
   ]
  },
  {
   "cell_type": "code",
   "execution_count": 17,
   "metadata": {},
   "outputs": [],
   "source": [
    "# formatting\n",
    "supplemental_data[\"transcriptomics_and_proteomics\"] = supplemental_data[\"transcriptomics_and_proteomics\"].rename({\"Unnamed: 0\" : \"ensembl_gene\"}, axis = 1).set_index(\"ensembl_gene\")"
   ]
  },
  {
   "cell_type": "code",
   "execution_count": null,
   "metadata": {},
   "outputs": [],
   "source": [
    "supplemental_data[\"transcriptomics_and_proteomics\"].head()"
   ]
  },
  {
   "cell_type": "code",
   "execution_count": null,
   "metadata": {},
   "outputs": [],
   "source": [
    "supplemental_data[\"phenotypes\"].head()"
   ]
  },
  {
   "cell_type": "code",
   "execution_count": null,
   "metadata": {},
   "outputs": [],
   "source": [
    "supplemental_data[\"phenotypes\"].value_counts(\"case\")"
   ]
  },
  {
   "cell_type": "code",
   "execution_count": null,
   "metadata": {},
   "outputs": [],
   "source": [
    "supplemental_data[\"rnaseq_mouse\"].head()"
   ]
  },
  {
   "cell_type": "code",
   "execution_count": null,
   "metadata": {},
   "outputs": [],
   "source": [
    "supplemental_data[\"metabolomics\"].head()"
   ]
  }
 ],
 "metadata": {
  "language_info": {
   "name": "python"
  }
 },
 "nbformat": 4,
 "nbformat_minor": 2
}
