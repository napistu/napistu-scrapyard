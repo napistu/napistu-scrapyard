{
 "cells": [
  {
   "cell_type": "markdown",
   "metadata": {},
   "source": [
    "## Trying out extracting causal statements from papers\n",
    "\n",
    "This is the major content from the [gene network](https://indra.readthedocs.io/en/latest/tutorials/gene_network.html#) tutorial.\n",
    "\n",
    "INDRA is a very cool project but it seems more relevant for assembling information around a smallish number of molecular species. "
   ]
  },
  {
   "cell_type": "code",
   "execution_count": 1,
   "metadata": {},
   "outputs": [
    {
     "name": "stderr",
     "output_type": "stream",
     "text": [
      "Processing OWL elements: 100%|██████████| 132k/132k [00:04<00:00, 26.5kit/s] \n"
     ]
    }
   ],
   "source": [
    "from indra.tools.gene_network import GeneNetwork\n",
    "\n",
    "gn = GeneNetwork(['H2AX'])\n",
    "biopax_stmts = gn.get_biopax_stmts()\n",
    "bel_stmts = gn.get_bel_stmts()"
   ]
  },
  {
   "cell_type": "code",
   "execution_count": 2,
   "metadata": {},
   "outputs": [
    {
     "data": {
      "text/plain": [
       "[Ubiquitination(RNF4(), MDC1(mods: (phosphorylation, T, 699), (phosphorylation, T, 765), (phosphorylation, T, 752), (phosphorylation, T, 719), (sumoylation, K, 1840), (phosphorylation, T, 4)), K),\n",
       " Deubiquitination(CHEK2(mods: (phosphorylation, T, 68), (phosphorylation, T, 383), (phosphorylation, T, 387), (phosphorylation, S, 379)), BARD1(mods: (phosphorylation, T, 734), (phosphorylation, T, 714)), K),\n",
       " Phosphorylation(CHEK2(mods: (phosphorylation, T, 68), (phosphorylation, T, 383), (phosphorylation, T, 387), (phosphorylation, S, 379)), BRCA1(mods: (ubiquitination, K), (phosphorylation, S, 1524), (phosphorylation, S, 1457), (phosphorylation, S, 1423), (phosphorylation, S, 1387)), S, 988)]"
      ]
     },
     "execution_count": null,
     "metadata": {},
     "output_type": "execute_result"
    }
   ],
   "source": [
    "# pathways database entries\n",
    "biopax_stmts[0:3]"
   ]
  },
  {
   "cell_type": "code",
   "execution_count": 3,
   "metadata": {},
   "outputs": [
    {
     "data": {
      "text/plain": [
       "[DecreaseAmount(trichostatin A(), H2AX()),\n",
       " Phosphorylation(etoposide(), H2AX(), S, 140),\n",
       " Phosphorylation(etoposide(), H2AX(), S, 140)]"
      ]
     },
     "execution_count": null,
     "metadata": {},
     "output_type": "execute_result"
    }
   ],
   "source": [
    "# literature curations\n",
    "bel_stmts[0:3]"
   ]
  },
  {
   "cell_type": "code",
   "execution_count": 4,
   "metadata": {},
   "outputs": [
    {
     "data": {
      "text/plain": [
       "570"
      ]
     },
     "execution_count": null,
     "metadata": {},
     "output_type": "execute_result"
    }
   ],
   "source": [
    "from indra import literature\n",
    "\n",
    "pmids = literature.pubmed_client.get_ids_for_gene('H2AX')\n",
    "len(pmids)"
   ]
  },
  {
   "cell_type": "code",
   "execution_count": 8,
   "metadata": {},
   "outputs": [
    {
     "data": {
      "text/plain": [
       "{'12447390': 'DNA damage-induced G2-M checkpoint activation by histone H2AX and 53BP1. Activation of the ataxia telangiectasia mutated (ATM) kinase triggers diverse cellular responses to ionizing radiation (IR), including the initiation of cell cycle checkpoints. Histone H2AX, p53 binding-protein 1 (53BP1) and Chk2 are targets of ATM-mediated phosphorylation, but little is known about their roles in signalling the presence of DNA damage. Here, we show that mice lacking either H2AX or 53BP1, but not Chk2, manifest a G2-M checkpoint defect close to that observed in ATM(-/-) cells after exposure to low, but not high, doses of IR. Moreover, H2AX regulates the ability of 53BP1 to efficiently accumulate into IR-induced foci. We propose that at threshold levels of DNA damage, H2AX-mediated concentration of 53BP1 at double-strand breaks is essential for the amplification of signals that might otherwise be insufficient to prevent entry of damaged cells into mitosis.',\n",
       " '16872365': \"Extent of constitutive histone H2AX phosphorylation on Ser-139 varies in cells with different TP53 status. In response to DNA damage by genotoxic agents, histone H2AX is phosphorylated on Ser-139. However, during the cell cycle, predominantly in S and G(2)M phase, histone H2AX is also phosphorylated in untreated normal and tumour cells. This constitutive H2AX phosphorylation is markedly reduced by exposure of cells to the reactive oxygen species scavenger N-acetyl-L-cysteine. Therefore, it appears likely that constitutive H2AX phosphorylation reflects the ongoing oxidative DNA damage induced by the reactive oxygen species during progression through the cell cycle. Because the tumour suppressor p53 (tumour protein p53) is known to induce transcription of genes associated with cell response to oxidative stress, we have compared the intensity of constitutive H2AX phosphorylation, and the effect of N-acetyl-L-cysteine on it, in cells with different tumour protein p53 status. These were human lymphoblastoid cell lines derived from WIL2 cells: TK6, a p53 wt line, NH32, a tumour protein p53 knock-out derived from TK6, and WTK1, a WIL2-derived line that expresses a homozygous mutant of tumour protein p53. Also tested were the tumour protein p53-null promyelocytic HL-60 cells. The degree of constitutive H2AX phosphorylation was distinctly lower in NH32, WTK1 and HL-60 compared to TK6 cells in all phases of the cell cycle. Also, the degree of attenuation of constitutive H2AX phosphorylation by N-acetyl-L-cysteine was less pronounced in NH32, WTK1, and HL-60, compared to TK6 cells. However, the level of reactive oxygen species detected by the cells' ability to oxidize carboxyl-dichlorodihydrofluorescein diacetate was not significantly different in the cell lines studied, which would suggest that regardless of tumour protein p53 status, the level of oxidative DNA damage was similar. The observed higher level of constitutive H2AX phosphorylation in cells harbouring wt tumour protein p53 may thus indicate that tumour protein p53 plays a role in facilitating histone H2AX phosphorylation, an important step in the mobilization of the DNA repair machinery at the site of DNA double-strand breaks.\",\n",
       " '21900206': 'A directed protein interaction network for investigating intracellular signal transduction. Cellular signal transduction is a complex process involving protein-protein interactions (PPIs) that transmit information. For example, signals from the plasma membrane may be transduced to transcription factors to regulate gene expression. To obtain a global view of cellular signaling and to predict potential signal modulators, we searched for protein interaction partners of more than 450 signaling-related proteins by means of automated yeast two-hybrid interaction mating. The resulting PPI network connected 1126 proteins through 2626 PPIs. After expansion of this interaction map with publicly available PPI data, we generated a directed network resembling the signal transduction flow between proteins with a naïve Bayesian classifier. We exploited information on the shortest PPI paths from membrane receptors to transcription factors to predict input and output relationships between interacting proteins. Integration of directed PPI with time-resolved protein phosphorylation data revealed network structures that dynamically conveyed information from the activated epidermal growth factor and extracellular signal-regulated kinase (EGF/ERK) signaling cascade to directly associated proteins and more distant proteins in the network. From the model network, we predicted 18 previously unknown modulators of EGF/ERK signaling, which we validated in mammalian cell-based assays. This generic experimental and computational approach provides a framework for elucidating causal connections between signaling proteins and facilitates the identification of proteins that modulate the flow of information in signaling networks.',\n",
       " '26095369': 'TRIM29 regulates the assembly of DNA repair proteins into damaged chromatin. Although DNA double-strand break (DSB) repair is mediated by numerous proteins accumulated at DSB sites, how DNA repair proteins are assembled into damaged chromatin has not been fully elucidated. Here we show that a member of the tripartite motif protein family, TRIM29, is a histone-binding protein responsible for DNA damage response (DDR). We found that TRIM29 interacts with BRCA1-associated surveillance complex, cohesion, DNA-PKcs and components of TIP60 complex. The dynamics of the TRIM29-containing complex on H2AX nucleosomes is coordinated by a cross-talk between histone modifications. TRIM29 binds to modified histone H3 and H4 tails in the context of nucleosomes. Furthermore, chromatin binding of TRIM29 is required for the phosphorylation of H2AX and cell viability in response to ionizing radiation. Our results suggest that TRIM29 functions as a scaffold protein to assemble DNA repair proteins into chromatin followed by efficient activation of DDR.',\n",
       " '19513550': 'gammaH2AX and cleaved PARP-1 as apoptotic markers in irradiated breast cancer BT474 cellular spheroids. Chemo- and radiotherapy induce apoptosis in tumours and surrounding tissues. In a search for robust and reliable apoptosis markers, we have evaluated immunostaining patterns of gammaH2AX and cleaved PARP-1 in paraffin-embedded cellular spheroids. Breast cancer BT474 cells were grown as cell spheroids to diameters of 700-800 microm. The spheroids contained an outer cell layer with proliferative cells, a deeper region with quiescent cells and a central area with necrosis. They were irradiated with 5 Gy and the frequency of apoptotic cells was determined at several time points (0-144 h) and distances (0-150 microm) from the spheroids surface. gammaH2AX and cleaved PARP-1 were quantified independently. Apoptotic frequencies for the two markers agreed both temporally and spatially in the proliferative regions of the spheroids. The gammaH2AX signal was stronger and had lower background compared to cleaved PARP-1. The central necrotic region was intensely stained with cleaved PARP-1, whereas no gammaH2AX could be detected. The apoptotic frequency increased with distance from surface for all time points. However, apoptotic frequencies, above unirradiated control levels, could only be detected for the last time point, 144 h after irradiation. We have shown that the spheroid model is a practical system for evaluation of staining patterns and specificities of apoptosis markers. Also, the radial gradient provides the opportunity to study apoptosis under a range of physiological conditions within the same system. We have further shown that gammaH2AX and cleaved PARP-1 are applicable markers for apoptosis in the proliferative regions of the spheroids. However, the more intense and clear staining patterns of gammaH2AX suggests that this marker is preferable for quantification of apoptosis in spheroids and similar paraffin-embedded materials.',\n",
       " '17904670': 'Residual gammaH2AX after irradiation of human lymphocytes and monocytes in vitro and its relation to late effects after prostate brachytherapy. Retention of gammaH2AX foci in irradiated cells can signify a deficiency in DNA double-strand break repair that may be useful as an indicator of individual radiosensitivity. To examine this possibility, the retention of gammaH2AX after irradiation was compared using white blood cells from 20 prostate brachytherapy patients who developed late normal tissue toxicity and 20 patients with minimal toxicity. Peripheral blood lymphocytes and monocytes were coded for analysis, exposed in vitro to 4 doses of 0.7 Gy X-rays at 3 hourly intervals, and retention of gammaH2AX was measured by flow cytometry 18 hours after the final irradiation. Excellent reproducibility in duplicate samples and a range in residual gammaH2AX from 7% above background to 244% above background were observed. Residual gammaH2AX in lymphocytes showed a positive correlation with patient age. However, no relation was observed between the level of residual gammaH2AX in peripheral blood mononuclear cells and late normal tissue damage. We conclude that the method of detection of residual gammaH2AX after in vitro irradiation of lymphocytes and monocytes was simple, reproducible, and sensitive. However, it failed to predict for late normal tissue toxicity after brachytherapy. Possible reasons are discussed.',\n",
       " '12556884': \"DNA damage activates ATM through intermolecular autophosphorylation and dimer dissociation. The ATM protein kinase, mutations of which are associated with the human disease ataxia-telangiectasia, mediates responses to ionizing radiation in mammalian cells. Here we show that ATM is held inactive in unirradiated cells as a dimer or higher-order multimer, with the kinase domain bound to a region surrounding serine 1981 that is contained within the previously described 'FAT' domain. Cellular irradiation induces rapid intermolecular autophosphorylation of serine 1981 that causes dimer dissociation and initiates cellular ATM kinase activity. Most ATM molecules in the cell are rapidly phosphorylated on this site after doses of radiation as low as 0.5 Gy, and binding of a phosphospecific antibody is detectable after the introduction of only a few DNA double-strand breaks in the cell. Activation of the ATM kinase seems to be an initiating event in cellular responses to irradiation, and our data indicate that ATM activation is not dependent on direct binding to DNA strand breaks, but may result from changes in the structure of chromatin.\",\n",
       " '22941933': 'Cleavage of the BRCT tandem domains of nibrin by the 657del5 mutation affects the DNA damage response less than the Arg215Trp mutation. The Nijmegen breakage syndrome (NBS) is a genetic disorder caused by mutations in NBN gene and characterized by chromosomal instability and hypersensitivity to ionizing radiations (IR). The N-terminus of nibrin (NBN) contains a tandem breast cancer 1 (BRCA1) carboxy-terminal (BRCT) domain that represents one of the major mediators of phosphorylation-dependent protein-protein interactions in processes related to cell cycle checkpoint and DNA repair functions. Patients with NBS compound heterozygous for the 657del5 hypomorphic mutation and for the Arg215Trp missense mutation (corresponding to the 643C>T gene mutation) display a clinical phenotype more severe than that of patients homozygous for the 657del5 mutation. Here, we show that both the 657del5 and Arg215Trp mutations, occurring within the tandem BRCT domains of NBN, although not altering the assembly of the MRE11/RAD50/NBN (MRN) complex, affect the MRE11 IR-induced nuclear foci (IRIF) formation and the DNA double-strand break (DSB) signaling via the phosphorylation of both ataxia-telangiectasia-mutated (ATM) kinase and ATM downstream targets (e.g., SMC1 and p53). Remarkably, data obtained indicate that the cleavage of the BRCT tandem domains of NBN by the 657del5 mutation affects the DNA damage response less than the Arg215Trp mutation. Indeed, the 70-kDa NBN fragment, arising from the 657del5 mutation, maintains the capability to interact with MRE11 and γ-H2AX and to form IRIF. Altogether, the role of the tandem BRCT domains of NBN in the localization of the MRN complex at the DNA DSB and in the activation of the damage response is highlighted.',\n",
       " '29478914': 'Genome-wide CRISPR-Cas9 Screen Identifies Leukemia-Specific Dependence on a Pre-mRNA Metabolic Pathway Regulated by DCPS. To identify novel targets for acute myeloid leukemia (AML) therapy, we performed genome-wide CRISPR-Cas9 screening using AML cell lines, followed by a second screen in\\xa0vivo. Here, we show that the mRNA decapping enzyme scavenger (DCPS) gene is essential for AML cell survival. The DCPS enzyme interacted with components of pre-mRNA metabolic pathways, including spliceosomes, as revealed by mass spectrometry.\\xa0RG3039, a DCPS inhibitor originally developed to treat spinal muscular atrophy, exhibited anti-leukemic activity via inducing pre-mRNA mis-splicing. Humans harboring germline biallelic DCPS loss-of-function mutations do not exhibit aberrant hematologic phenotypes, indicating that DCPS is dispensable for human hematopoiesis. Our findings shed light on a pre-mRNA metabolic pathway and identify DCPS as a target for AML therapy.',\n",
       " '17620599': 'Functional specialization of beta-arrestin interactions revealed by proteomic analysis. Beta-arrestins are cytosolic proteins that form complexes with seven-transmembrane receptors after agonist stimulation and phosphorylation by the G protein-coupled receptor kinases. They play an essential role in receptor desensitization and endocytosis, and they also serve as receptor-regulated signaling scaffolds and adaptors. Moreover, in the past decade, a growing list of protein-protein interactions of beta-arrestins pertinent to these functions has been documented. The discovery of several novel functions of beta-arrestins stimulated us to perform a global proteomics analysis of beta-arrestin-interacting proteins (interactome) as modulated by a model seven-transmembrane receptor, the angiotensin II type 1a receptor, in an attempt to assess the full range of functions of these versatile molecules. As determined by LC tandem MS, 71 proteins interacted with beta-arrestin 1, 164 interacted with beta-arrestin 2, and 102 interacted with both beta-arrestins. Some proteins bound only after agonist stimulation, whereas others dissociated. Bioinformatics analysis of the data indicates that proteins involved in cellular signaling, organization, and nucleic acid binding are the most highly represented in the beta-arrestin interactome. Surprisingly, both S-arrestin (visual arrestin) and X-arrestin (cone arrestin) were also found in heteromeric complex with beta-arrestins. The beta-arrestin interactors distribute not only in the cytoplasm, but also in the nucleus as well as other subcellular compartments. The binding of 16 randomly selected newly identified beta-arrestin partners was validated by coimmunoprecipitation assays in HEK293 cells. This study provides a comprehensive analysis of proteins that bind beta-arrestin isoforms and underscores their potentially broad regulatory roles in mammalian cellular physiology.'}"
      ]
     },
     "execution_count": null,
     "metadata": {},
     "output_type": "execute_result"
    }
   ],
   "source": [
    "from indra import literature\n",
    "\n",
    "paper_contents = {}\n",
    "for pmid in pmids:\n",
    "    content, content_type = literature.get_full_text(pmid, 'pmid')\n",
    "    if content_type == 'abstract':\n",
    "        paper_contents[pmid] = content\n",
    "    if len(paper_contents) == 10:\n",
    "        break\n",
    "\n",
    "# sickkk\n",
    "paper_contents"
   ]
  },
  {
   "cell_type": "code",
   "execution_count": 19,
   "metadata": {},
   "outputs": [],
   "source": [
    "# fails\n",
    "#from indra.sources import reach\n",
    "\n",
    "#literature_stmts = []\n",
    "#for pmid, content in paper_contents.items():\n",
    "#    rp = reach.process_text(content, url=reach.local_text_url)\n",
    "#    literature_stmts += rp.statements\n",
    "#print('Got %d statements' % len(literature_stmts))"
   ]
  },
  {
   "cell_type": "code",
   "execution_count": 9,
   "metadata": {},
   "outputs": [
    {
     "name": "stderr",
     "output_type": "stream",
     "text": [
      "Finding refinement relations: 100%|██████████| 1480/1480 [00:00<00:00, 6629.84it/s]\n"
     ]
    }
   ],
   "source": [
    "from indra.tools import assemble_corpus as ac\n",
    "\n",
    "stmts = biopax_stmts + bel_stmts\n",
    "\n",
    "stmts = ac.map_grounding(stmts)\n",
    "stmts = ac.map_sequence(stmts)\n",
    "stmts = ac.run_preassembly(stmts)"
   ]
  },
  {
   "cell_type": "code",
   "execution_count": 10,
   "metadata": {},
   "outputs": [],
   "source": [
    "from indra.assemblers.indranet import IndraNetAssembler\n",
    "indranet_assembler = IndraNetAssembler(statements=stmts)\n",
    "indranet = indranet_assembler.make_model()"
   ]
  },
  {
   "cell_type": "code",
   "execution_count": 11,
   "metadata": {},
   "outputs": [],
   "source": [
    "import networkx as nx\n",
    "paths = nx.single_source_shortest_path(G=indranet, source='H2AX', cutoff=1)"
   ]
  },
  {
   "cell_type": "code",
   "execution_count": 12,
   "metadata": {},
   "outputs": [
    {
     "data": {
      "text/plain": [
       "[SIRT6:Nucleosome(H3K9ac):NOTCH1 gene(), H3C15()]"
      ]
     },
     "execution_count": null,
     "metadata": {},
     "output_type": "execute_result"
    }
   ],
   "source": [
    "# statements are the primary unit in INDRA\n",
    "# they include a set of agents\n",
    "stmts[1].agent_list()"
   ]
  },
  {
   "cell_type": "code",
   "execution_count": 13,
   "metadata": {},
   "outputs": [
    {
     "data": {
      "text/plain": [
       "[Evidence(source_api='biopax',\n",
       "          source_id='pc14:reactome:Catalysis4074',\n",
       "          annotations={\n",
       "                       \"source_sub_id\": \"reactome\",\n",
       "                       \"agents\": {\n",
       "                        \"raw_text\": [\n",
       "                         null,\n",
       "                         null\n",
       "                        ],\n",
       "                        \"raw_grounding\": [\n",
       "                         {},\n",
       "                         {\n",
       "                          \"UP\": \"Q71DI3\",\n",
       "                          \"EGID\": \"333932\",\n",
       "                          \"HGNC\": \"20505\"\n",
       "                         }\n",
       "                        ]\n",
       "                       },\n",
       "                       \"prior_uuids\": [\n",
       "                        \"907e7bd3-ef3b-417a-8f6b-95a710b5c2c4\"\n",
       "                       ],\n",
       "                       \"indranet_edge\": {\n",
       "                        \"residue\": \"K\",\n",
       "                        \"position\": \"10\",\n",
       "                        \"stmt_type\": \"Deacetylation\",\n",
       "                        \"evidence_count\": 1,\n",
       "                        \"stmt_hash\": 17488660482645649,\n",
       "                        \"belief\": 0.79,\n",
       "                        \"source_counts\": {\n",
       "                         \"biopax\": 1\n",
       "                        }\n",
       "                       }\n",
       "                      },\n",
       "          epistemics={\n",
       "                      \"direct\": true\n",
       "                     }\n",
       "          )\n",
       " ]"
      ]
     },
     "execution_count": null,
     "metadata": {},
     "output_type": "execute_result"
    }
   ],
   "source": [
    "# nice annotations of provinence\n",
    "stmts[1].evidence"
   ]
  },
  {
   "cell_type": "code",
   "execution_count": 15,
   "metadata": {},
   "outputs": [
    {
     "data": {
      "text/plain": [
       "<bound method Agent.isa of SIRT6:Nucleosome(H3K9ac):NOTCH1 gene()>"
      ]
     },
     "execution_count": null,
     "metadata": {},
     "output_type": "execute_result"
    }
   ],
   "source": [
    "a_participant = stmts[1].agent_list()[0]\n",
    "# participants have nice properties\n",
    "a_participant.isa"
   ]
  },
  {
   "cell_type": "markdown",
   "metadata": {},
   "source": [
    "## Specific sources\n",
    "\n",
    "INDRA ingests a range of data sources, lets have a look"
   ]
  },
  {
   "cell_type": "code",
   "execution_count": 16,
   "metadata": {},
   "outputs": [
    {
     "name": "stderr",
     "output_type": "stream",
     "text": [
      "Processing SIGNOR rows: 100%|██████████| 39169/39169 [00:16<00:00, 2417.59it/s] \n",
      "Processing SIGNOR complexes: 100%|██████████| 520/520 [00:00<00:00, 33365.53it/s]\n"
     ]
    }
   ],
   "source": [
    "from indra.sources import signor\n",
    "\n",
    "SIGNOR_DATA_FILE = \"/tmp/signor_data_file.csv\"\n",
    "SIGNOR_COMPLEX_FILE = \"/tmp/signore_complex_file.csv\"\n",
    "\n",
    "signor_expressions = signor.api.process_from_web(\n",
    "    signor_data_file=SIGNOR_DATA_FILE,\n",
    "    signor_complexes_file=SIGNOR_COMPLEX_FILE\n",
    "    )"
   ]
  },
  {
   "cell_type": "code",
   "execution_count": null,
   "metadata": {},
   "outputs": [],
   "source": [
    "# statements can be serialized to json\n",
    "signor_expressions.statements[0].to_json(use_sbo=True)"
   ]
  },
  {
   "cell_type": "code",
   "execution_count": null,
   "metadata": {},
   "outputs": [],
   "source": [
    "# participants have some systematic identies as xrefs\n",
    "x = signor_expressions.statements[0].agent_list()[1]\n",
    "x.db_refs"
   ]
  },
  {
   "cell_type": "markdown",
   "metadata": {},
   "source": [
    "## SBML export"
   ]
  },
  {
   "cell_type": "code",
   "execution_count": 30,
   "metadata": {},
   "outputs": [],
   "source": [
    "from indra.assemblers.pysb import assembler\n",
    "\n",
    "SBML_OUT_PATH = \"/tmp/indra_signor.sbml\"\n",
    "SBGN_OUT_PATH = \"/tmp/indra_signor.sbgn\"\n",
    "JSON_OUT_PATH = \"/tmp/indra_signor.json\""
   ]
  },
  {
   "cell_type": "code",
   "execution_count": 51,
   "metadata": {},
   "outputs": [],
   "source": [
    "pysb_model = assembler.PysbAssembler(signor_expressions.statements)\n",
    "# the model isn't actually being assembled\n",
    "pysb_model.model"
   ]
  },
  {
   "cell_type": "code",
   "execution_count": 53,
   "metadata": {},
   "outputs": [],
   "source": [
    "# since the model isn't assembled exports don't work\n",
    "# pysb_model.export_model(\"sbml\", SBML_OUT_PATH)"
   ]
  }
 ],
 "metadata": {
  "language_info": {
   "name": "python"
  }
 },
 "nbformat": 4,
 "nbformat_minor": 2
}
