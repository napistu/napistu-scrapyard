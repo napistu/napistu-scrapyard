{
 "cells": [
  {
   "cell_type": "markdown",
   "metadata": {},
   "source": [
    "# Evaluating Omnipath and Pypath\n",
    "\n",
    "## Omnipath\n",
    "\n",
    "The high-level framework for pulling down resources to pd.DataFrames\n",
    "\n",
    "### Interactions"
   ]
  },
  {
   "cell_type": "code",
   "execution_count": null,
   "metadata": {},
   "outputs": [],
   "source": [
    "import omnipath as op"
   ]
  },
  {
   "cell_type": "code",
   "execution_count": null,
   "metadata": {},
   "outputs": [],
   "source": [
    "dorothea = op.interactions.Dorothea()\n",
    "dorothea_data = dorothea.get()\n",
    "dorothea_data.head()"
   ]
  },
  {
   "cell_type": "code",
   "execution_count": null,
   "metadata": {},
   "outputs": [],
   "source": [
    "collect_tri = op.interactions.CollecTRI()\n",
    "collect_tri_data = collect_tri.get()\n",
    "collect_tri_data.head()"
   ]
  },
  {
   "cell_type": "code",
   "execution_count": null,
   "metadata": {},
   "outputs": [],
   "source": [
    "omnipath_obj = op.interactions.OmniPath()\n",
    "omnipath_df = omnipath_obj.get()\n",
    "omnipath_df.head()"
   ]
  },
  {
   "cell_type": "code",
   "execution_count": null,
   "metadata": {},
   "outputs": [],
   "source": [
    "all_interactions = op.interactions.AllInteractions()\n",
    "all_interactions_data = all_interactions.get()\n",
    "all_interactions_data.value_counts(\"sources\")"
   ]
  },
  {
   "cell_type": "code",
   "execution_count": null,
   "metadata": {},
   "outputs": [],
   "source": [
    "all_interactions_data[all_interactions_data[\"sources\"] == \"SIGNOR\"].head()"
   ]
  },
  {
   "cell_type": "markdown",
   "metadata": {},
   "source": [
    "### Requests\n",
    "\n",
    "Looks like requests contains metadata"
   ]
  },
  {
   "cell_type": "code",
   "execution_count": null,
   "metadata": {},
   "outputs": [],
   "source": [
    "complexes = op.requests.Complexes()\n",
    "complexes_data = complexes.get()\n",
    "complexes_data.head()\n",
    "\n",
    "# many of the species are just Uniprots, but some are "
   ]
  },
  {
   "cell_type": "code",
   "execution_count": null,
   "metadata": {},
   "outputs": [],
   "source": [
    "annotations = op.requests.Annotations()\n",
    "annotations_data = annotations.get(force_full_download = True)\n",
    "annotations_data"
   ]
  },
  {
   "cell_type": "code",
   "execution_count": 42,
   "metadata": {},
   "outputs": [],
   "source": [
    "# from napistu import utils\n",
    "# the url above doesn't work\n",
    "# ANNOT_URL = \"https://archive.omnipathdb.org/omnipath_webservice_annotations__recent.tsv\"\n",
    "# annot_local_path = utils.download_and_extract(ANNOT_URL, \"/tmp/ominpath_annotations.tsv\")"
   ]
  },
  {
   "cell_type": "code",
   "execution_count": null,
   "metadata": {},
   "outputs": [],
   "source": [
    "# you can obtain the annotations fine if you just pass the resources directly\n",
    "# (you could probably do this with all resources to circuvent the error above)\n",
    "a_few_annot_resources = annotations.resources()[0:5]\n",
    "\n",
    "few_annotations_data = annotations.get(resources=a_few_annot_resources)\n",
    "few_annotations_data.head()"
   ]
  },
  {
   "cell_type": "code",
   "execution_count": null,
   "metadata": {},
   "outputs": [],
   "source": [
    "ensyme_substrates = op.requests.Enzsub()\n",
    "enzyme_substrate_data = ensyme_substrates.get()\n",
    "enzyme_substrate_data.value_counts(\"modification\")"
   ]
  },
  {
   "cell_type": "code",
   "execution_count": null,
   "metadata": {},
   "outputs": [],
   "source": [
    "intercell = op.requests.Intercell()\n",
    "intercell_data = intercell.get()\n",
    "# i don't quite understand this output, it seems like it is related to the signals themselves\n",
    "# but its not clear how to pair multiple species involved in a signaling event\n",
    "intercell_data.head(5)"
   ]
  },
  {
   "cell_type": "code",
   "execution_count": null,
   "metadata": {},
   "outputs": [],
   "source": [
    "# looks like the enzyme-substrate is identical to the modification one...\n",
    "ptms = op.requests.SignedPTMs()\n",
    "ptms_data = ptms.get()\n",
    "ptms_data.value_counts(\"modification\")"
   ]
  },
  {
   "cell_type": "markdown",
   "metadata": {},
   "source": [
    "## PyPath\n",
    "\n",
    "I couldn't get pypath working on my system. It seems like the downloads are not initiating."
   ]
  },
  {
   "cell_type": "code",
   "execution_count": 1,
   "metadata": {},
   "outputs": [
    {
     "name": "stdout",
     "output_type": "stream",
     "text": [
      "Pypath cache directories created at: /Users/maya/.pypath\n"
     ]
    },
    {
     "data": {
      "text/plain": [
       "'/Users/maya/.pypath'"
      ]
     },
     "execution_count": null,
     "metadata": {},
     "output_type": "execute_result"
    }
   ],
   "source": [
    "import os\n",
    "from pathlib import Path\n",
    "\n",
    "def setup_pypath_cache(base_dir=None):\n",
    "    \"\"\"\n",
    "    Set up the basic pypath cache directory structure.\n",
    "    \n",
    "    Parameters:\n",
    "    -----------\n",
    "    base_dir : str, optional\n",
    "        Path to the base directory. If None, defaults to ~/.pypath\n",
    "        \n",
    "    Returns:\n",
    "    --------\n",
    "    str\n",
    "        The path to the created cache directory\n",
    "    \"\"\"\n",
    "    # Use default base directory if none provided\n",
    "    if base_dir is None:\n",
    "        base_dir = os.path.expanduser(\"~/.pypath\")\n",
    "    \n",
    "    # Create main directory\n",
    "    path = Path(base_dir)\n",
    "    path.mkdir(exist_ok=True)\n",
    "    \n",
    "    # Create essential subdirectories\n",
    "    pickle_dir = path / \"pickles\"\n",
    "    pickle_dir.mkdir(exist_ok=True)\n",
    "    \n",
    "    cache_dir = path / \"cache\"\n",
    "    cache_dir.mkdir(exist_ok=True)\n",
    "    \n",
    "    print(f\"Pypath cache directories created at: {base_dir}\")\n",
    "    return str(base_dir)\n",
    "\n",
    "setup_pypath_cache()"
   ]
  },
  {
   "cell_type": "code",
   "execution_count": 2,
   "metadata": {},
   "outputs": [],
   "source": [
    "import logging\n",
    "\n",
    "# Configure a logger that outputs to the console/notebook\n",
    "logging.basicConfig(\n",
    "    level=logging.DEBUG,\n",
    "    format='%(asctime)s - %(name)s - %(levelname)s - %(message)s',\n",
    "    # No filename parameter so output goes to console/notebook\n",
    ")\n",
    "\n",
    "# Create a logger instance\n",
    "logger = logging.getLogger(__name__)"
   ]
  },
  {
   "cell_type": "code",
   "execution_count": 3,
   "metadata": {},
   "outputs": [
    {
     "data": {
      "text/plain": [
       "['omnipath',\n",
       " 'curated',\n",
       " 'complex',\n",
       " 'annotations',\n",
       " 'intercell',\n",
       " 'tf_target',\n",
       " 'dorothea',\n",
       " 'collectri',\n",
       " 'small_molecule',\n",
       " 'tf_mirna',\n",
       " 'mirna_mrna',\n",
       " 'lncrna_mrna',\n",
       " 'enz_sub']"
      ]
     },
     "execution_count": null,
     "metadata": {},
     "output_type": "execute_result"
    }
   ],
   "source": [
    "from pypath import omnipath\n",
    "omnipath.db.datasets"
   ]
  },
  {
   "cell_type": "code",
   "execution_count": 5,
   "metadata": {},
   "outputs": [],
   "source": [
    "# from pypath import omnipath\n",
    "# Get a specific database instance, e.g., 'omnipath'\n",
    "# op = omnipath.db.get_db('omnipath')"
   ]
  }
 ],
 "metadata": {
  "language_info": {
   "name": "python"
  }
 },
 "nbformat": 4,
 "nbformat_minor": 2
}
