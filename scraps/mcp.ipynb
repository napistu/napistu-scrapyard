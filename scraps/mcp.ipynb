{
 "cells": [
  {
   "cell_type": "code",
   "execution_count": 1,
   "metadata": {},
   "outputs": [],
   "source": [
    "# Install the package in development mode if needed\n",
    "# !pip install -e '.[mcp]'\n",
    "\n",
    "import asyncio\n",
    "import os\n",
    "import sys\n",
    "import logging\n",
    "from pathlib import Path\n",
    "import json\n",
    "\n",
    "# Import the MCP components\n",
    "from napistu.mcp.server import create_server, initialize_components\n",
    "from napistu.mcp import documentation, codebase, tutorials, execution\n",
    "\n",
    "# Set up logging\n",
    "logging.basicConfig(level=logging.INFO)\n",
    "logger = logging.getLogger(\"napistu\")\n",
    "\n",
    "# Helper function to run async code in Jupyter\n",
    "async def run_async(coro):\n",
    "    return await coro\n",
    "\n",
    "# Create a dummy session context for execution components\n",
    "session_context = {}\n",
    "object_registry = {}"
   ]
  },
  {
   "cell_type": "code",
   "execution_count": 2,
   "metadata": {},
   "outputs": [],
   "source": [
    "from napistu.mcp.profiles import get_profile\n",
    "# define the types of assets to load\n",
    "profile = get_profile(\"full\")"
   ]
  },
  {
   "cell_type": "code",
   "execution_count": 3,
   "metadata": {},
   "outputs": [
    {
     "name": "stderr",
     "output_type": "stream",
     "text": [
      "INFO:napistu.mcp.server:Registering documentation components\n",
      "INFO:napistu.mcp.server:Registering codebase components\n",
      "INFO:napistu.mcp.server:Registering execution components\n",
      "INFO:napistu.mcp.server:Registering tutorials components\n"
     ]
    },
    {
     "data": {
      "text/plain": [
       "<coroutine object initialize_components at 0x147e183c0>"
      ]
     },
     "execution_count": 3,
     "metadata": {},
     "output_type": "execute_result"
    }
   ],
   "source": [
    "# register the relevant components\n",
    "mcp = create_server(profile)\n",
    "# initialize the relevant components\n",
    "live_server = await run_async(initialize_components(mcp, profile))"
   ]
  },
  {
   "cell_type": "code",
   "execution_count": 6,
   "metadata": {},
   "outputs": [],
   "source": [
    "from napistu.mcp import documentation_utils\n",
    "from napistu.mcp.codebase_utils import read_read_the_docs\n",
    "\n",
    "from napistu.mcp.constants import READMES\n",
    "from napistu.mcp.constants import NAPISTU_PY_READTHEDOCS_API"
   ]
  },
  {
   "cell_type": "code",
   "execution_count": null,
   "metadata": {},
   "outputs": [],
   "source": [
    "# readmes\n",
    "readme = await run_async(documentation_utils.load_readme_content(READMES[\"napistu\"]))\n",
    "readme\n"
   ]
  },
  {
   "cell_type": "code",
   "execution_count": null,
   "metadata": {},
   "outputs": [],
   "source": [
    "# read-the-docs module and function defs\n",
    "rtd_docs = await run_async(read_read_the_docs(package_toc_url = NAPISTU_PY_READTHEDOCS_API))\n",
    "rtd_docs\n"
   ]
  },
  {
   "cell_type": "code",
   "execution_count": null,
   "metadata": {},
   "outputs": [],
   "source": [
    "# github wiki\n",
    "\n",
    "from napistu.constants import PACKAGE_DEFS\n",
    "\n",
    "wiki_pages = await run_async(documentation_utils.list_wiki_pages(repo = PACKAGE_DEFS.GITHUB_PROJECT_REPO))"
   ]
  },
  {
   "cell_type": "code",
   "execution_count": null,
   "metadata": {},
   "outputs": [],
   "source": [
    "# github issues and PRs\n",
    "\n",
    "GITHUB_ISSUES_INDEXED = \"all\"\n",
    "GITHUB_PRS_INDEXED = \"all\"\n",
    "\n",
    "# load issues (already includes the body)\n",
    "issue_list = await run_async(documentation_utils.list_issues(PACKAGE_DEFS.GITHUB_PROJECT_REPO, state = GITHUB_ISSUES_INDEXED))\n",
    "\n",
    "# load PRs\n",
    "prs_list = await run_async(documentation_utils.list_pull_requests(PACKAGE_DEFS.GITHUB_PROJECT_REPO, state = GITHUB_PRS_INDEXED))\n",
    "\n",
    "# there is probably no reason to use this since this info is captured in the lists\n",
    "# prs_list = await run_async(get_issue(PACKAGE_DEFS.GITHUB_PROJECT_REPO, number = 11))\n"
   ]
  },
  {
   "cell_type": "code",
   "execution_count": 11,
   "metadata": {},
   "outputs": [],
   "source": [
    "# tutorials\n",
    "\n",
    "from napistu.mcp.constants import TUTORIAL_URLS\n",
    "from napistu.mcp.tutorials_utils import get_tutorial_markdown"
   ]
  },
  {
   "cell_type": "code",
   "execution_count": null,
   "metadata": {},
   "outputs": [],
   "source": [
    "tutorial_markdown_dict = dict()\n",
    "for k, v in TUTORIAL_URLS.items():\n",
    "    tutorial_markdown_dict[k] = await run_async(get_tutorial_markdown(k))\n",
    "\n",
    "tutorial_markdown_dict"
   ]
  },
  {
   "cell_type": "code",
   "execution_count": 13,
   "metadata": {},
   "outputs": [],
   "source": [
    "from fastmcp import FastMCP"
   ]
  },
  {
   "cell_type": "code",
   "execution_count": null,
   "metadata": {},
   "outputs": [],
   "source": [
    "??FastMCP.run"
   ]
  }
 ],
 "metadata": {
  "kernelspec": {
   "display_name": ".venv",
   "language": "python",
   "name": "python3"
  },
  "language_info": {
   "codemirror_mode": {
    "name": "ipython",
    "version": 3
   },
   "file_extension": ".py",
   "mimetype": "text/x-python",
   "name": "python",
   "nbconvert_exporter": "python",
   "pygments_lexer": "ipython3",
   "version": "3.11.11"
  }
 },
 "nbformat": 4,
 "nbformat_minor": 2
}
